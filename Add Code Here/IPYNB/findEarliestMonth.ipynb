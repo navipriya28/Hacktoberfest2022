import math
def findEarliestMonth(stockPrice):
  sum1=0
  sum2=sum(stockPrice)
  n=len(stockPrice)
  mini=1000000
  month=0
  for i in range(0,n-1):
    sum+=stockPrice[i]
    sum2-=stockPrice[i]
    avg1=sum//(i+1)
    avg2=sum//(n-i-1)
    y=abs(avg2-avg1)
    if y<mini:
      mini=y
      month=i+1
  return month
  print(findEarliestMonth([1,3,2,4,5]))
  
